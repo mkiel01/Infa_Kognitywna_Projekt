{
 "cells": [
  {
   "cell_type": "code",
   "id": "initial_id",
   "metadata": {
    "collapsed": true,
    "ExecuteTime": {
     "end_time": "2024-04-05T23:16:59.095541Z",
     "start_time": "2024-04-05T23:16:59.064777Z"
    }
   },
   "source": [
    "guacomola_sentiment = \"Based on the results of your eye examination and imaging tests, it appears that you have glaucoma. Glaucoma is a condition where the optic nerve, which connects the eye to the brain, becomes damaged, often due to increased pressure within the eye. This damage can lead to vision loss if left untreated. It's important to understand that glaucoma is a chronic condition that requires ongoing management to prevent further vision loss. While we can't reverse the damage that's already occurred, we can take steps to slow down the progression of the disease and preserve your remaining vision. Treatment for glaucoma typically involves using eye drops to lower the pressure within your eye. In some cases, other treatments such as laser therapy or surgery may be necessary. We'll work together to determine the best course of action for your specific situation. It's also important for you to regularly monitor your eye health and follow up with me as recommended. We'll need to closely monitor your condition and make any necessary adjustments to your treatment plan to ensure that we're effectively managing your glaucoma and preserving your vision as much as possible. If you have any questions or concerns about your diagnosis or treatment plan, please don't hesitate to ask. I'm here to support you every step of the way in managing your glaucoma and maintaining the health of your eyes.\"\n",
    "\n",
    "catarc_sentiment = \"After examining your eyes, it appears that you have cataracts. Cataracts occur when the lens of the eye becomes clouded, leading to blurred or dim vision. This clouding is often a result of aging, but can also be caused by other factors such as injury or certain medical conditions. The symptoms of cataracts can vary from person to person, but common signs include blurry vision, difficulty seeing in low light, sensitivity to glare, and seeing halos around lights. If left untreated, cataracts can significantly impact your vision and quality of life. The good news is that cataracts can be treated with surgery. During cataract surgery, the cloudy lens is removed and replaced with an artificial lens called an intraocular lens (IOL). This is typically a safe and effective procedure that can significantly improve your vision. Before proceeding with surgery, we'll discuss your specific situation and any other eye conditions you may have. We'll also talk about the different types of IOLs available and which might be best for you. If you're not ready for surgery or if your cataracts are still in the early stages, we can explore other options to manage your symptoms. This may include updating your eyeglass prescription or making lifestyle changes to help you see more comfortably. It's important to keep in mind that cataracts are a progressive condition, meaning they will worsen over time. However, with appropriate treatment and management, we can help you maintain clear vision and continue to enjoy the activities you love. If you have any questions or concerns about your diagnosis or treatment options, please don't hesitate to ask. I'm here to support you and ensure that you receive the best possible care for your cataracts.\""
   ],
   "outputs": [],
   "execution_count": 1
  },
  {
   "cell_type": "code",
   "source": [
    "import tensorflow as tf\n",
    "\n",
    "loaded_model1 = tf.keras.models.load_model('/Users/michalkielkowski/Desktop/infa-all/magisterka/infa_kognitywan/Ocular_Disease_Recognition/models/glaucoma.h5')\n",
    "loaded_model2 = tf.keras.models.load_model('/Users/michalkielkowski/Desktop/infa-all/magisterka/infa_kognitywan/Ocular_Disease_Recognition/models/catarc.h5')\n",
    "\n",
    "\n",
    "\n",
    "def predict(image):\n",
    "    # Predict using model 1\n",
    "    predictions1 = loaded_model1.predict(image)\n",
    "    class1 = tf.argmax(predictions1, axis=1)\n",
    "    confidence1 = tf.reduce_max(predictions1)\n",
    "\n",
    "    # Predict using model 2\n",
    "    predictions2 = loaded_model2.predict(image)\n",
    "    class2 = tf.argmax(predictions2, axis=1)\n",
    "    confidence2 = tf.reduce_max(predictions2)\n",
    "\n",
    "    return class1.numpy(), confidence1.numpy(), class2.numpy(), confidence2.numpy()\n",
    "\n",
    "\n",
    "image = \"/Users/michalkielkowski/Desktop/infa-all/magisterka/infa_kognitywan/Ocular_Disease_Recognition/data/archive (1)/preprocessed_images/4676_left.jpg\"  \n",
    "\n",
    "# Make predictions\n",
    "class1, confidence1, class2, confidence2 = predict(image)\n",
    "\n",
    "# Print predictions\n",
    "print(\"Model 1 Prediction:\")\n",
    "print(\"Class:\", class1)\n",
    "print(\"Confidence:\", confidence1)\n",
    "\n",
    "print(\"\\nModel 2 Prediction:\")\n",
    "print(\"Class:\", class2)\n",
    "print(\"Confidence:\", confidence2)\n"
   ],
   "metadata": {
    "collapsed": false,
    "ExecuteTime": {
     "end_time": "2024-04-06T10:52:29.804266Z",
     "start_time": "2024-04-06T10:52:26.229399Z"
    }
   },
   "id": "112240d7a5dd08d7",
   "outputs": [
    {
     "ename": "IndexError",
     "evalue": "tuple index out of range",
     "output_type": "error",
     "traceback": [
      "\u001B[0;31m---------------------------------------------------------------------------\u001B[0m",
      "\u001B[0;31mIndexError\u001B[0m                                Traceback (most recent call last)",
      "Cell \u001B[0;32mIn[4], line 25\u001B[0m\n\u001B[1;32m     22\u001B[0m image \u001B[38;5;241m=\u001B[39m \u001B[38;5;124m\"\u001B[39m\u001B[38;5;124m/Users/michalkielkowski/Desktop/infa-all/magisterka/infa_kognitywan/Ocular_Disease_Recognition/data/archive (1)/preprocessed_images/4676_left.jpg\u001B[39m\u001B[38;5;124m\"\u001B[39m  \n\u001B[1;32m     24\u001B[0m \u001B[38;5;66;03m# Make predictions\u001B[39;00m\n\u001B[0;32m---> 25\u001B[0m class1, confidence1, class2, confidence2 \u001B[38;5;241m=\u001B[39m predict(image)\n\u001B[1;32m     27\u001B[0m \u001B[38;5;66;03m# Print predictions\u001B[39;00m\n\u001B[1;32m     28\u001B[0m \u001B[38;5;28mprint\u001B[39m(\u001B[38;5;124m\"\u001B[39m\u001B[38;5;124mModel 1 Prediction:\u001B[39m\u001B[38;5;124m\"\u001B[39m)\n",
      "Cell \u001B[0;32mIn[4], line 10\u001B[0m, in \u001B[0;36mpredict\u001B[0;34m(image)\u001B[0m\n\u001B[1;32m      8\u001B[0m \u001B[38;5;28;01mdef\u001B[39;00m \u001B[38;5;21mpredict\u001B[39m(image):\n\u001B[1;32m      9\u001B[0m     \u001B[38;5;66;03m# Predict using model 1\u001B[39;00m\n\u001B[0;32m---> 10\u001B[0m     predictions1 \u001B[38;5;241m=\u001B[39m loaded_model1\u001B[38;5;241m.\u001B[39mpredict(image)\n\u001B[1;32m     11\u001B[0m     class1 \u001B[38;5;241m=\u001B[39m tf\u001B[38;5;241m.\u001B[39margmax(predictions1, axis\u001B[38;5;241m=\u001B[39m\u001B[38;5;241m1\u001B[39m)\n\u001B[1;32m     12\u001B[0m     confidence1 \u001B[38;5;241m=\u001B[39m tf\u001B[38;5;241m.\u001B[39mreduce_max(predictions1)\n",
      "File \u001B[0;32m/opt/anaconda3/envs/eksploracja_danych/lib/python3.11/site-packages/keras/src/utils/traceback_utils.py:70\u001B[0m, in \u001B[0;36mfilter_traceback.<locals>.error_handler\u001B[0;34m(*args, **kwargs)\u001B[0m\n\u001B[1;32m     67\u001B[0m     filtered_tb \u001B[38;5;241m=\u001B[39m _process_traceback_frames(e\u001B[38;5;241m.\u001B[39m__traceback__)\n\u001B[1;32m     68\u001B[0m     \u001B[38;5;66;03m# To get the full stack trace, call:\u001B[39;00m\n\u001B[1;32m     69\u001B[0m     \u001B[38;5;66;03m# `tf.debugging.disable_traceback_filtering()`\u001B[39;00m\n\u001B[0;32m---> 70\u001B[0m     \u001B[38;5;28;01mraise\u001B[39;00m e\u001B[38;5;241m.\u001B[39mwith_traceback(filtered_tb) \u001B[38;5;28;01mfrom\u001B[39;00m \u001B[38;5;28;01mNone\u001B[39;00m\n\u001B[1;32m     71\u001B[0m \u001B[38;5;28;01mfinally\u001B[39;00m:\n\u001B[1;32m     72\u001B[0m     \u001B[38;5;28;01mdel\u001B[39;00m filtered_tb\n",
      "File \u001B[0;32m/opt/anaconda3/envs/eksploracja_danych/lib/python3.11/site-packages/tensorflow/python/framework/tensor_shape.py:962\u001B[0m, in \u001B[0;36mTensorShape.__getitem__\u001B[0;34m(self, key)\u001B[0m\n\u001B[1;32m    960\u001B[0m \u001B[38;5;28;01melse\u001B[39;00m:\n\u001B[1;32m    961\u001B[0m   \u001B[38;5;28;01mif\u001B[39;00m \u001B[38;5;28mself\u001B[39m\u001B[38;5;241m.\u001B[39m_v2_behavior:\n\u001B[0;32m--> 962\u001B[0m     \u001B[38;5;28;01mreturn\u001B[39;00m \u001B[38;5;28mself\u001B[39m\u001B[38;5;241m.\u001B[39m_dims[key]\n\u001B[1;32m    963\u001B[0m   \u001B[38;5;28;01melse\u001B[39;00m:\n\u001B[1;32m    964\u001B[0m     \u001B[38;5;28;01mreturn\u001B[39;00m \u001B[38;5;28mself\u001B[39m\u001B[38;5;241m.\u001B[39mdims[key]\n",
      "\u001B[0;31mIndexError\u001B[0m: tuple index out of range"
     ]
    }
   ],
   "execution_count": 4
  },
  {
   "cell_type": "code",
   "source": [
    "import tensorflow as tf\n",
    "import numpy as np\n",
    "import cv2\n",
    "import os\n",
    "from tqdm import tqdm\n",
    "import random\n",
    "\n",
    "# Load your models\n",
    "loaded_model1 = tf.keras.models.load_model('/Users/michalkielkowski/Desktop/infa-all/magisterka/infa_kognitywan/Ocular_Disease_Recognition/models/glaucoma.h5')\n",
    "loaded_model2 = tf.keras.models.load_model('/Users/michalkielkowski/Desktop/infa-all/magisterka/infa_kognitywan/Ocular_Disease_Recognition/models/catarc.h5')\n",
    "\n",
    "# Define dataset directory and image size\n",
    "dataset_dir = \"/Users/michalkielkowski/Desktop/infa-all/magisterka/infa_kognitywan/Ocular_Disease_Recognition/data/archive (1)/preprocessed_images/\"\n",
    "image_size = 224\n",
    "\n",
    "# Define labels and dataset lists\n",
    "labels = []\n",
    "dataset = []\n",
    "\n",
    "# Function to create dataset\n",
    "def create_dataset(image_category, label):\n",
    "    for img in tqdm(image_category):\n",
    "        image_path = os.path.join(dataset_dir, img)\n",
    "        try:\n",
    "            image = cv2.imread(image_path, cv2.IMREAD_COLOR)\n",
    "            image = cv2.resize(image, (image_size, image_size))\n",
    "        except:\n",
    "            continue\n",
    "        dataset.append([np.array(image), np.array(label)])\n",
    "    random.shuffle(dataset)\n",
    "    return dataset\n",
    "\n",
    "# Preprocess image for prediction\n",
    "def preprocess_image(image):\n",
    "    image = cv2.resize(image, (image_size, image_size))\n",
    "    return image\n",
    "\n",
    "# Function to predict using loaded models\n",
    "def predict(image):\n",
    "    # Preprocess the image\n",
    "    image = preprocess_image(image)\n",
    "\n",
    "    # Expand dimensions to match model input shape\n",
    "    image = np.expand_dims(image, axis=0)\n",
    "\n",
    "    # Predict using model 1\n",
    "    predictions1 = loaded_model1.predict(image)\n",
    "    class1 = np.argmax(predictions1, axis=1)\n",
    "    confidence1 = np.max(predictions1)\n",
    "\n",
    "    # Predict using model 2\n",
    "    predictions2 = loaded_model2.predict(image)\n",
    "    class2 = np.argmax(predictions2, axis=1)\n",
    "    confidence2 = np.max(predictions2)\n",
    "\n",
    "    return class1, confidence1, class2, confidence2\n",
    "\n",
    "# Example image path\n",
    "image_path = \"/Users/michalkielkowski/Desktop/infa-all/magisterka/infa_kognitywan/Ocular_Disease_Recognition/data/archive (1)/preprocessed_images/726_left.jpg\"\n",
    "\n",
    "# Load the image\n",
    "image = cv2.imread(image_path, cv2.IMREAD_COLOR)\n",
    "\n",
    "# Make predictions\n",
    "class1, confidence1, class2, confidence2 = predict(image)\n",
    "\n",
    "# Print predictions\n",
    "print(\"Model 1 Prediction:\")\n",
    "print(\"Class:\", class1)\n",
    "print(\"Confidence:\", confidence1)\n",
    "\n",
    "print(\"\\nModel 2 Prediction:\")\n",
    "print(\"Class:\", class2)\n",
    "print(\"Confidence:\", confidence2)\n"
   ],
   "metadata": {
    "collapsed": false,
    "ExecuteTime": {
     "end_time": "2024-04-06T11:01:29.993232Z",
     "start_time": "2024-04-06T11:01:23.873346Z"
    }
   },
   "id": "16e527f3bbcbbd84",
   "outputs": [
    {
     "name": "stdout",
     "output_type": "stream",
     "text": [
      "1/1 [==============================] - 1s 746ms/step\n",
      "1/1 [==============================] - 1s 650ms/step\n",
      "Model 1 Prediction:\n",
      "Class: [0]\n",
      "Confidence: 0.99820155\n",
      "\n",
      "Model 2 Prediction:\n",
      "Class: [0]\n",
      "Confidence: 1.0\n"
     ]
    }
   ],
   "execution_count": 6
  },
  {
   "metadata": {},
   "cell_type": "code",
   "outputs": [],
   "execution_count": null,
   "source": "",
   "id": "7b8fe115249c2e8d"
  }
 ],
 "metadata": {
  "kernelspec": {
   "display_name": "Python 3",
   "language": "python",
   "name": "python3"
  },
  "language_info": {
   "codemirror_mode": {
    "name": "ipython",
    "version": 2
   },
   "file_extension": ".py",
   "mimetype": "text/x-python",
   "name": "python",
   "nbconvert_exporter": "python",
   "pygments_lexer": "ipython2",
   "version": "2.7.6"
  }
 },
 "nbformat": 4,
 "nbformat_minor": 5
}
